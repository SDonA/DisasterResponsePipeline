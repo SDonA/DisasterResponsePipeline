{
 "cells": [
  {
   "cell_type": "markdown",
   "metadata": {},
   "source": [
    "# ML Pipeline Preparation\n",
    "Follow the instructions below to help you create your ML pipeline.\n",
    "### 1. Import libraries and load data from database.\n",
    "- Import Python libraries\n",
    "- Load dataset from database with [`read_sql_table`](https://pandas.pydata.org/pandas-docs/stable/generated/pandas.read_sql_table.html)\n",
    "- Define feature and target variables X and Y"
   ]
  },
  {
   "cell_type": "code",
   "execution_count": 1,
   "metadata": {},
   "outputs": [
    {
     "name": "stdout",
     "output_type": "stream",
     "text": [
      "Requirement already satisfied: nltk in c:\\users\\succa\\anaconda3\\lib\\site-packages (3.5)\n",
      "Requirement already satisfied: joblib in c:\\users\\succa\\anaconda3\\lib\\site-packages (from nltk) (1.0.1)\n",
      "Requirement already satisfied: regex in c:\\users\\succa\\anaconda3\\lib\\site-packages (from nltk) (2020.11.13)\n",
      "Requirement already satisfied: tqdm in c:\\users\\succa\\anaconda3\\lib\\site-packages (from nltk) (4.60.0)\n",
      "Requirement already satisfied: click in c:\\users\\succa\\anaconda3\\lib\\site-packages (from nltk) (7.1.2)\n",
      "Requirement already satisfied: plotly in c:\\users\\succa\\anaconda3\\lib\\site-packages (5.5.0)\n",
      "Requirement already satisfied: tenacity>=6.2.0 in c:\\users\\succa\\anaconda3\\lib\\site-packages (from plotly) (8.0.1)\n",
      "Requirement already satisfied: six in c:\\users\\succa\\anaconda3\\lib\\site-packages (from plotly) (1.15.0)\n"
     ]
    }
   ],
   "source": [
    "# install nltk and plotly if not already installed.\n",
    "\n",
    "!pip install nltk\n",
    "!pip install plotly"
   ]
  },
  {
   "cell_type": "code",
   "execution_count": 2,
   "metadata": {},
   "outputs": [
    {
     "name": "stderr",
     "output_type": "stream",
     "text": [
      "[nltk_data] Downloading package punkt to\n",
      "[nltk_data]     C:\\Users\\succa\\AppData\\Roaming\\nltk_data...\n",
      "[nltk_data]   Package punkt is already up-to-date!\n",
      "[nltk_data] Downloading package wordnet to\n",
      "[nltk_data]     C:\\Users\\succa\\AppData\\Roaming\\nltk_data...\n",
      "[nltk_data]   Package wordnet is already up-to-date!\n",
      "[nltk_data] Downloading package stopwords to\n",
      "[nltk_data]     C:\\Users\\succa\\AppData\\Roaming\\nltk_data...\n",
      "[nltk_data]   Package stopwords is already up-to-date!\n",
      "[nltk_data] Downloading package averaged_perceptron_tagger to\n",
      "[nltk_data]     C:\\Users\\succa\\AppData\\Roaming\\nltk_data...\n",
      "[nltk_data]   Package averaged_perceptron_tagger is already up-to-\n",
      "[nltk_data]       date!\n"
     ]
    }
   ],
   "source": [
    "# import libraries\n",
    "import numpy as np\n",
    "import pandas as pd\n",
    "import sys\n",
    "import os\n",
    "import re\n",
    "import string\n",
    "\n",
    "from sqlalchemy import create_engine\n",
    "import pickle\n",
    "\n",
    "import nltk\n",
    "nltk.download(['punkt', 'wordnet', 'stopwords'])\n",
    "from nltk.corpus import stopwords\n",
    "nltk.download('averaged_perceptron_tagger')\n",
    "\n",
    "\n",
    "# scipy modules and functions\n",
    "from scipy.stats import gmean\n",
    "from sklearn.pipeline import Pipeline, FeatureUnion\n",
    "from sklearn.model_selection import train_test_split\n",
    "from sklearn.metrics import classification_report\n",
    "from sklearn.metrics import confusion_matrix\n",
    "from sklearn.metrics import fbeta_score, make_scorer\n",
    "from sklearn.ensemble import GradientBoostingClassifier,RandomForestClassifier, AdaBoostClassifier\n",
    "from sklearn.model_selection import GridSearchCV\n",
    "from sklearn.feature_extraction.text import TfidfTransformer, CountVectorizer\n",
    "from sklearn.multioutput import MultiOutputClassifier\n",
    "from sklearn.base import BaseEstimator, TransformerMixin\n"
   ]
  },
  {
   "cell_type": "code",
   "execution_count": 3,
   "metadata": {},
   "outputs": [],
   "source": [
    "# load data from database\n",
    "db_path = \"../data/disaster_response.db\"\n",
    "engine = create_engine('sqlite:///' + db_path)\n",
    "table_name = 'disaster_response_tbl'\n",
    "df =  pd.read_sql_table(table_name, engine)"
   ]
  },
  {
   "cell_type": "code",
   "execution_count": 4,
   "metadata": {
    "scrolled": true
   },
   "outputs": [
    {
     "name": "stdout",
     "output_type": "stream",
     "text": [
      "<class 'pandas.core.frame.DataFrame'>\n",
      "RangeIndex: 26216 entries, 0 to 26215\n",
      "Data columns (total 40 columns):\n",
      " #   Column                  Non-Null Count  Dtype \n",
      "---  ------                  --------------  ----- \n",
      " 0   id                      26216 non-null  int64 \n",
      " 1   message                 26216 non-null  object\n",
      " 2   original                10170 non-null  object\n",
      " 3   genre                   26216 non-null  object\n",
      " 4   related                 26216 non-null  int64 \n",
      " 5   request                 26216 non-null  int64 \n",
      " 6   offer                   26216 non-null  int64 \n",
      " 7   aid_related             26216 non-null  int64 \n",
      " 8   medical_help            26216 non-null  int64 \n",
      " 9   medical_products        26216 non-null  int64 \n",
      " 10  search_and_rescue       26216 non-null  int64 \n",
      " 11  security                26216 non-null  int64 \n",
      " 12  military                26216 non-null  int64 \n",
      " 13  child_alone             26216 non-null  int64 \n",
      " 14  water                   26216 non-null  int64 \n",
      " 15  food                    26216 non-null  int64 \n",
      " 16  shelter                 26216 non-null  int64 \n",
      " 17  clothing                26216 non-null  int64 \n",
      " 18  money                   26216 non-null  int64 \n",
      " 19  missing_people          26216 non-null  int64 \n",
      " 20  refugees                26216 non-null  int64 \n",
      " 21  death                   26216 non-null  int64 \n",
      " 22  other_aid               26216 non-null  int64 \n",
      " 23  infrastructure_related  26216 non-null  int64 \n",
      " 24  transport               26216 non-null  int64 \n",
      " 25  buildings               26216 non-null  int64 \n",
      " 26  electricity             26216 non-null  int64 \n",
      " 27  tools                   26216 non-null  int64 \n",
      " 28  hospitals               26216 non-null  int64 \n",
      " 29  shops                   26216 non-null  int64 \n",
      " 30  aid_centers             26216 non-null  int64 \n",
      " 31  other_infrastructure    26216 non-null  int64 \n",
      " 32  weather_related         26216 non-null  int64 \n",
      " 33  floods                  26216 non-null  int64 \n",
      " 34  storm                   26216 non-null  int64 \n",
      " 35  fire                    26216 non-null  int64 \n",
      " 36  earthquake              26216 non-null  int64 \n",
      " 37  cold                    26216 non-null  int64 \n",
      " 38  other_weather           26216 non-null  int64 \n",
      " 39  direct_report           26216 non-null  int64 \n",
      "dtypes: int64(37), object(3)\n",
      "memory usage: 8.0+ MB\n"
     ]
    }
   ],
   "source": [
    "df.info()"
   ]
  },
  {
   "cell_type": "code",
   "execution_count": 5,
   "metadata": {},
   "outputs": [
    {
     "data": {
      "text/plain": [
       "id                                                                    30265\n",
       "message                   | News Update | Serious loss of life expected ...\n",
       "genre                                                                social\n",
       "related                                                                   2\n",
       "request                                                                   1\n",
       "offer                                                                     1\n",
       "aid_related                                                               1\n",
       "medical_help                                                              1\n",
       "medical_products                                                          1\n",
       "search_and_rescue                                                         1\n",
       "security                                                                  1\n",
       "military                                                                  1\n",
       "child_alone                                                               0\n",
       "water                                                                     1\n",
       "food                                                                      1\n",
       "shelter                                                                   1\n",
       "clothing                                                                  1\n",
       "money                                                                     1\n",
       "missing_people                                                            1\n",
       "refugees                                                                  1\n",
       "death                                                                     1\n",
       "other_aid                                                                 1\n",
       "infrastructure_related                                                    1\n",
       "transport                                                                 1\n",
       "buildings                                                                 1\n",
       "electricity                                                               1\n",
       "tools                                                                     1\n",
       "hospitals                                                                 1\n",
       "shops                                                                     1\n",
       "aid_centers                                                               1\n",
       "other_infrastructure                                                      1\n",
       "weather_related                                                           1\n",
       "floods                                                                    1\n",
       "storm                                                                     1\n",
       "fire                                                                      1\n",
       "earthquake                                                                1\n",
       "cold                                                                      1\n",
       "other_weather                                                             1\n",
       "direct_report                                                             1\n",
       "dtype: object"
      ]
     },
     "execution_count": 5,
     "metadata": {},
     "output_type": "execute_result"
    }
   ],
   "source": [
    "df.max()"
   ]
  },
  {
   "cell_type": "code",
   "execution_count": null,
   "metadata": {},
   "outputs": [],
   "source": []
  },
  {
   "cell_type": "code",
   "execution_count": 6,
   "metadata": {},
   "outputs": [],
   "source": [
    "##Remove child alone as it has all zeros only\n",
    "#df = df.drop(['child_alone'],axis=1)"
   ]
  },
  {
   "cell_type": "code",
   "execution_count": 7,
   "metadata": {},
   "outputs": [],
   "source": [
    "#df.groupby(\"related\").count()"
   ]
  },
  {
   "cell_type": "code",
   "execution_count": 8,
   "metadata": {},
   "outputs": [],
   "source": [
    "# Given value 2 in the related field are neglible so it could be error. Replacing 2 with 1 to consider it a valid response.\n",
    "# Alternatively, we could have assumed it to be 0 also. In the absence of information I have gone with majority class.\n",
    "df['related']=df['related'].map(lambda x: 1 if x == 2 else x)"
   ]
  },
  {
   "cell_type": "code",
   "execution_count": null,
   "metadata": {},
   "outputs": [],
   "source": []
  },
  {
   "cell_type": "code",
   "execution_count": 9,
   "metadata": {},
   "outputs": [],
   "source": [
    "# Get X and y Variables\n",
    "\n",
    "X = df.loc[:, 'message']\n",
    "y = df.iloc[:, 4:]"
   ]
  },
  {
   "cell_type": "code",
   "execution_count": null,
   "metadata": {},
   "outputs": [],
   "source": []
  },
  {
   "cell_type": "markdown",
   "metadata": {},
   "source": [
    "Check if there are urls in the messages"
   ]
  },
  {
   "cell_type": "code",
   "execution_count": 10,
   "metadata": {},
   "outputs": [
    {
     "name": "stdout",
     "output_type": "stream",
     "text": [
      "There are 669 messages containing urls\n"
     ]
    }
   ],
   "source": [
    "msgs_with_url = df[df['message'].str.contains('http[s]?://(?:[a-zA-Z]|[0-9]|[$-_@.&+]|[!*\\(\\),]|(?:%[0-9a-fA-F][0-9a-fA-F]))+', regex = True)]['id'].count()\n",
    "print('There are {} messages containing urls'.format(msgs_with_url))"
   ]
  },
  {
   "cell_type": "markdown",
   "metadata": {},
   "source": [
    "The urls will be handled in the tokenize function below"
   ]
  },
  {
   "cell_type": "code",
   "execution_count": null,
   "metadata": {},
   "outputs": [],
   "source": []
  },
  {
   "cell_type": "code",
   "execution_count": null,
   "metadata": {},
   "outputs": [],
   "source": []
  },
  {
   "cell_type": "markdown",
   "metadata": {},
   "source": [
    "### 2. Write a tokenization function to process your text data"
   ]
  },
  {
   "cell_type": "code",
   "execution_count": 11,
   "metadata": {},
   "outputs": [],
   "source": [
    "def tokenize(text):\n",
    "    \n",
    "    # define url_regex\n",
    "    url_regex = 'http[s]?://(?:[a-zA-Z]|[0-9]|[$-_@.&+]|[!*\\(\\),]|(?:%[0-9a-fA-F][0-9a-fA-F]))+'\n",
    "    \n",
    "    # get list of all urls using regex\n",
    "    detected_urls = re.findall(url_regex, text)\n",
    "    \n",
    "    # replace each url in text string with placeholder\n",
    "    for url in detected_urls:\n",
    "        text = text.replace(url, 'urlplaceholder')\n",
    "        \n",
    "    # tokenize text\n",
    "    tokens = nltk.word_tokenize(text)\n",
    "    \n",
    "    # initiate lemmatizer\n",
    "    lemmatizer = nltk.WordNetLemmatizer()\n",
    "    \n",
    "    # iterate thorugh each token\n",
    "    clean_tokens = []\n",
    "    for tok in tokens:\n",
    "        \n",
    "        # lemmatize, normalize case, and remove leading/trailing white spaces\n",
    "        clean_tok = lemmatizer.lemmatize((tok.lower().strip()))\n",
    "        clean_tokens.append(clean_tok)\n",
    "    \n",
    " # for some reason adding the code block below makes the gridsearch to fail   \n",
    "    ## Remove stopwords and punctuations\n",
    "    #clean_tokens = [w for w in clean_tokens if w not in stopwords.words('english')]\n",
    "    #clean_tokens = [w for w in clean_tokens if w not in list(string.punctuation)]\n",
    "    #stop_words = stopwords.words('english')\n",
    "    #punct = [p for p in string.punctuation]\n",
    "    \n",
    "    #i = 0\n",
    "    #for entry in clean_tokens:        \n",
    "    #    if entry in stop_words or entry in punct:\n",
    "    #        del clean_tokens[i]\n",
    "        \n",
    "    #    i += 1\n",
    "            \n",
    "        \n",
    "    \n",
    "    return clean_tokens"
   ]
  },
  {
   "cell_type": "code",
   "execution_count": 12,
   "metadata": {},
   "outputs": [],
   "source": [
    "# Build a custom transformer which will extract the starting verb of a sentence\n",
    "class StartingVerbExtractor(BaseEstimator, TransformerMixin):\n",
    "    \"\"\"\n",
    "    Starting Verb Extractor class\n",
    "    \n",
    "    This class extract the starting verb of a sentence,\n",
    "    creating a new feature for the ML classifier\n",
    "    \"\"\"\n",
    "\n",
    "    def starting_verb(self, text):\n",
    "        sentence_list = nltk.sent_tokenize(text)\n",
    "        for sentence in sentence_list:\n",
    "            pos_tags = nltk.pos_tag(tokenize(sentence))\n",
    "            first_word, first_tag = pos_tags[0]\n",
    "            if first_tag in ['VB', 'VBP'] or first_word == 'RT':\n",
    "                return True\n",
    "        return False\n",
    "\n",
    "    # Given it is a tranformer we can return the self \n",
    "    def fit(self, X, y=None):\n",
    "        return self\n",
    "\n",
    "    def transform(self, X):\n",
    "        X_tagged = pd.Series(X).apply(self.starting_verb)\n",
    "        return pd.DataFrame(X_tagged)"
   ]
  },
  {
   "cell_type": "markdown",
   "metadata": {},
   "source": [
    "### 3. Build a machine learning pipeline\n",
    "This machine pipeline should take in the `message` column as input and output classification results on the other 36 categories in the dataset. You may find the [MultiOutputClassifier](http://scikit-learn.org/stable/modules/generated/sklearn.multioutput.MultiOutputClassifier.html) helpful for predicting multiple target variables."
   ]
  },
  {
   "cell_type": "code",
   "execution_count": 13,
   "metadata": {},
   "outputs": [],
   "source": [
    "# pipeline = \n",
    "\n",
    "\n",
    "\n",
    "pipeline1 = Pipeline([\n",
    "        ('features', FeatureUnion([\n",
    "\n",
    "            ('text_pipeline', Pipeline([\n",
    "                ('count_vectorizer', CountVectorizer(tokenizer=tokenize)),\n",
    "                ('tfidf_transformer', TfidfTransformer())\n",
    "            ]))\n",
    "            \n",
    "        ])),\n",
    "\n",
    "        ('classifier', MultiOutputClassifier(AdaBoostClassifier()))\n",
    "    ])\n",
    "\n",
    "pipeline2 = Pipeline([\n",
    "        ('features', FeatureUnion([\n",
    "\n",
    "            ('text_pipeline', Pipeline([\n",
    "                ('count_vectorizer', CountVectorizer(tokenizer=tokenize)),\n",
    "                ('tfidf_transformer', TfidfTransformer())\n",
    "            ])),\n",
    "\n",
    "            ('starting_verb_transformer', StartingVerbExtractor())\n",
    "        ])),\n",
    "\n",
    "        ('classifier', MultiOutputClassifier(AdaBoostClassifier()))\n",
    "    ])\n",
    "\n",
    "\n",
    "pipeline3 = Pipeline([\n",
    "        ('features', FeatureUnion([\n",
    "\n",
    "            ('text_pipeline', Pipeline([\n",
    "                ('count_vectorizer', CountVectorizer(tokenizer=tokenize)),\n",
    "                ('tfidf_transformer', TfidfTransformer())\n",
    "            ])),\n",
    "\n",
    "            ('starting_verb_transformer', StartingVerbExtractor())\n",
    "        ])),\n",
    "\n",
    "        ('classifier', MultiOutputClassifier(RandomForestClassifier(random_state = 27)))\n",
    "    ])\n",
    "\n"
   ]
  },
  {
   "cell_type": "markdown",
   "metadata": {},
   "source": [
    "### 4. Train pipeline\n",
    "- Split data into train and test sets\n",
    "- Train pipeline"
   ]
  },
  {
   "cell_type": "code",
   "execution_count": 14,
   "metadata": {},
   "outputs": [],
   "source": [
    "X_train, X_test, y_train, y_test = train_test_split(X, y)\n",
    "pipeline_fitted = pipeline1.fit(X_train, y_train)"
   ]
  },
  {
   "cell_type": "markdown",
   "metadata": {},
   "source": [
    "### 5. Test your model\n",
    "Report the f1 score, precision and recall for each output category of the dataset. You can do this by iterating through the columns and calling sklearn's `classification_report` on each."
   ]
  },
  {
   "cell_type": "code",
   "execution_count": 15,
   "metadata": {},
   "outputs": [
    {
     "name": "stdout",
     "output_type": "stream",
     "text": [
      "                        precision    recall  f1-score   support\n",
      "\n",
      "               related       0.82      0.95      0.88      4979\n",
      "               request       0.75      0.52      0.61      1094\n",
      "                 offer       0.00      0.00      0.00        21\n",
      "           aid_related       0.75      0.57      0.65      2668\n",
      "          medical_help       0.58      0.26      0.36       514\n",
      "      medical_products       0.68      0.32      0.43       339\n",
      "     search_and_rescue       0.58      0.20      0.29       179\n",
      "              security       0.25      0.05      0.08       122\n",
      "              military       0.57      0.30      0.39       210\n",
      "           child_alone       0.00      0.00      0.00         0\n",
      "                 water       0.68      0.62      0.65       394\n",
      "                  food       0.81      0.66      0.72       716\n",
      "               shelter       0.75      0.53      0.62       576\n",
      "              clothing       0.81      0.45      0.58       104\n",
      "                 money       0.58      0.29      0.39       135\n",
      "        missing_people       0.79      0.17      0.28        88\n",
      "              refugees       0.57      0.25      0.35       198\n",
      "                 death       0.73      0.47      0.58       285\n",
      "             other_aid       0.52      0.13      0.20       869\n",
      "infrastructure_related       0.46      0.08      0.14       431\n",
      "             transport       0.75      0.20      0.31       327\n",
      "             buildings       0.66      0.38      0.48       334\n",
      "           electricity       0.65      0.33      0.44       128\n",
      "                 tools       0.20      0.02      0.04        45\n",
      "             hospitals       0.16      0.05      0.07        66\n",
      "                 shops       0.00      0.00      0.00        33\n",
      "           aid_centers       0.36      0.11      0.17        80\n",
      "  other_infrastructure       0.37      0.07      0.12       298\n",
      "       weather_related       0.86      0.66      0.75      1791\n",
      "                floods       0.86      0.55      0.67       529\n",
      "                 storm       0.77      0.50      0.61       625\n",
      "                  fire       0.48      0.21      0.29        72\n",
      "            earthquake       0.89      0.77      0.82       610\n",
      "                  cold       0.62      0.27      0.38       122\n",
      "         other_weather       0.51      0.15      0.23       321\n",
      "         direct_report       0.70      0.46      0.55      1264\n",
      "\n",
      "             micro avg       0.77      0.57      0.66     20567\n",
      "             macro avg       0.57      0.32      0.39     20567\n",
      "          weighted avg       0.73      0.57      0.62     20567\n",
      "           samples avg       0.64      0.50      0.52     20567\n",
      "\n"
     ]
    },
    {
     "name": "stderr",
     "output_type": "stream",
     "text": [
      "C:\\Users\\succa\\anaconda3\\lib\\site-packages\\sklearn\\metrics\\_classification.py:1245: UndefinedMetricWarning: Precision and F-score are ill-defined and being set to 0.0 in labels with no predicted samples. Use `zero_division` parameter to control this behavior.\n",
      "  _warn_prf(average, modifier, msg_start, len(result))\n",
      "C:\\Users\\succa\\anaconda3\\lib\\site-packages\\sklearn\\metrics\\_classification.py:1245: UndefinedMetricWarning: Recall and F-score are ill-defined and being set to 0.0 in labels with no true samples. Use `zero_division` parameter to control this behavior.\n",
      "  _warn_prf(average, modifier, msg_start, len(result))\n",
      "C:\\Users\\succa\\anaconda3\\lib\\site-packages\\sklearn\\metrics\\_classification.py:1245: UndefinedMetricWarning: Precision and F-score are ill-defined and being set to 0.0 in samples with no predicted labels. Use `zero_division` parameter to control this behavior.\n",
      "  _warn_prf(average, modifier, msg_start, len(result))\n",
      "C:\\Users\\succa\\anaconda3\\lib\\site-packages\\sklearn\\metrics\\_classification.py:1245: UndefinedMetricWarning: Recall and F-score are ill-defined and being set to 0.0 in samples with no true labels. Use `zero_division` parameter to control this behavior.\n",
      "  _warn_prf(average, modifier, msg_start, len(result))\n"
     ]
    }
   ],
   "source": [
    "y_prediction_train = pipeline_fitted.predict(X_train)\n",
    "y_prediction_test = pipeline_fitted.predict(X_test)\n",
    "\n",
    "# Print classification report on test data\n",
    "print(classification_report(y_test.values, y_prediction_test, target_names=y.columns.values))"
   ]
  },
  {
   "cell_type": "code",
   "execution_count": null,
   "metadata": {},
   "outputs": [],
   "source": []
  },
  {
   "cell_type": "markdown",
   "metadata": {},
   "source": [
    "### 6. Improve your model\n",
    "Use grid search to find better parameters. "
   ]
  },
  {
   "cell_type": "code",
   "execution_count": 16,
   "metadata": {},
   "outputs": [
    {
     "data": {
      "text/plain": [
       "{'memory': None,\n",
       " 'steps': [('features',\n",
       "   FeatureUnion(transformer_list=[('text_pipeline',\n",
       "                                   Pipeline(steps=[('count_vectorizer',\n",
       "                                                    CountVectorizer(tokenizer=<function tokenize at 0x0000023D48C39EE0>)),\n",
       "                                                   ('tfidf_transformer',\n",
       "                                                    TfidfTransformer())]))])),\n",
       "  ('classifier', MultiOutputClassifier(estimator=AdaBoostClassifier()))],\n",
       " 'verbose': False,\n",
       " 'features': FeatureUnion(transformer_list=[('text_pipeline',\n",
       "                                 Pipeline(steps=[('count_vectorizer',\n",
       "                                                  CountVectorizer(tokenizer=<function tokenize at 0x0000023D48C39EE0>)),\n",
       "                                                 ('tfidf_transformer',\n",
       "                                                  TfidfTransformer())]))]),\n",
       " 'classifier': MultiOutputClassifier(estimator=AdaBoostClassifier()),\n",
       " 'features__n_jobs': None,\n",
       " 'features__transformer_list': [('text_pipeline',\n",
       "   Pipeline(steps=[('count_vectorizer',\n",
       "                    CountVectorizer(tokenizer=<function tokenize at 0x0000023D48C39EE0>)),\n",
       "                   ('tfidf_transformer', TfidfTransformer())]))],\n",
       " 'features__transformer_weights': None,\n",
       " 'features__verbose': False,\n",
       " 'features__text_pipeline': Pipeline(steps=[('count_vectorizer',\n",
       "                  CountVectorizer(tokenizer=<function tokenize at 0x0000023D48C39EE0>)),\n",
       "                 ('tfidf_transformer', TfidfTransformer())]),\n",
       " 'features__text_pipeline__memory': None,\n",
       " 'features__text_pipeline__steps': [('count_vectorizer',\n",
       "   CountVectorizer(tokenizer=<function tokenize at 0x0000023D48C39EE0>)),\n",
       "  ('tfidf_transformer', TfidfTransformer())],\n",
       " 'features__text_pipeline__verbose': False,\n",
       " 'features__text_pipeline__count_vectorizer': CountVectorizer(tokenizer=<function tokenize at 0x0000023D48C39EE0>),\n",
       " 'features__text_pipeline__tfidf_transformer': TfidfTransformer(),\n",
       " 'features__text_pipeline__count_vectorizer__analyzer': 'word',\n",
       " 'features__text_pipeline__count_vectorizer__binary': False,\n",
       " 'features__text_pipeline__count_vectorizer__decode_error': 'strict',\n",
       " 'features__text_pipeline__count_vectorizer__dtype': numpy.int64,\n",
       " 'features__text_pipeline__count_vectorizer__encoding': 'utf-8',\n",
       " 'features__text_pipeline__count_vectorizer__input': 'content',\n",
       " 'features__text_pipeline__count_vectorizer__lowercase': True,\n",
       " 'features__text_pipeline__count_vectorizer__max_df': 1.0,\n",
       " 'features__text_pipeline__count_vectorizer__max_features': None,\n",
       " 'features__text_pipeline__count_vectorizer__min_df': 1,\n",
       " 'features__text_pipeline__count_vectorizer__ngram_range': (1, 1),\n",
       " 'features__text_pipeline__count_vectorizer__preprocessor': None,\n",
       " 'features__text_pipeline__count_vectorizer__stop_words': None,\n",
       " 'features__text_pipeline__count_vectorizer__strip_accents': None,\n",
       " 'features__text_pipeline__count_vectorizer__token_pattern': '(?u)\\\\b\\\\w\\\\w+\\\\b',\n",
       " 'features__text_pipeline__count_vectorizer__tokenizer': <function __main__.tokenize(text)>,\n",
       " 'features__text_pipeline__count_vectorizer__vocabulary': None,\n",
       " 'features__text_pipeline__tfidf_transformer__norm': 'l2',\n",
       " 'features__text_pipeline__tfidf_transformer__smooth_idf': True,\n",
       " 'features__text_pipeline__tfidf_transformer__sublinear_tf': False,\n",
       " 'features__text_pipeline__tfidf_transformer__use_idf': True,\n",
       " 'classifier__estimator__algorithm': 'SAMME.R',\n",
       " 'classifier__estimator__base_estimator': None,\n",
       " 'classifier__estimator__learning_rate': 1.0,\n",
       " 'classifier__estimator__n_estimators': 50,\n",
       " 'classifier__estimator__random_state': None,\n",
       " 'classifier__estimator': AdaBoostClassifier(),\n",
       " 'classifier__n_jobs': None}"
      ]
     },
     "execution_count": 16,
     "metadata": {},
     "output_type": "execute_result"
    }
   ],
   "source": [
    "pipeline1.get_params()"
   ]
  },
  {
   "cell_type": "code",
   "execution_count": 17,
   "metadata": {
    "scrolled": false
   },
   "outputs": [
    {
     "data": {
      "text/plain": [
       "GridSearchCV(estimator=Pipeline(steps=[('features',\n",
       "                                        FeatureUnion(transformer_list=[('text_pipeline',\n",
       "                                                                        Pipeline(steps=[('count_vectorizer',\n",
       "                                                                                         CountVectorizer(tokenizer=<function tokenize at 0x0000023D48C39EE0>)),\n",
       "                                                                                        ('tfidf_transformer',\n",
       "                                                                                         TfidfTransformer())]))])),\n",
       "                                       ('classifier',\n",
       "                                        MultiOutputClassifier(estimator=AdaBoostClassifier()))]),\n",
       "             n_jobs=-1,\n",
       "             param_grid={'classifier__estimator__learning_rate': [0.05, 1, 1.5],\n",
       "                         'classifier__estimator__n_estimators': [50, 75, 100]},\n",
       "             scoring='f1_macro')"
      ]
     },
     "execution_count": 17,
     "metadata": {},
     "output_type": "execute_result"
    }
   ],
   "source": [
    "## specify parameters for gridsearch\n",
    "parameters = {'classifier__estimator__learning_rate': [0.05, 1, 1.5], 'classifier__estimator__n_estimators': [50, 75, 100]}\n",
    "\n",
    "## create grid search object\n",
    "cv = GridSearchCV(pipeline1, param_grid=parameters, scoring = 'f1_macro', n_jobs = -1)\n",
    "#cv = GridSearchCV(pipeline1, param_grid=parameters, scoring = 'f1_macro')\n",
    "cv.fit(X_train, y_train)"
   ]
  },
  {
   "cell_type": "code",
   "execution_count": 18,
   "metadata": {},
   "outputs": [
    {
     "data": {
      "text/plain": [
       "{'classifier__estimator__learning_rate': 1,\n",
       " 'classifier__estimator__n_estimators': 75}"
      ]
     },
     "execution_count": 18,
     "metadata": {},
     "output_type": "execute_result"
    }
   ],
   "source": [
    "cv.best_params_"
   ]
  },
  {
   "cell_type": "code",
   "execution_count": 19,
   "metadata": {},
   "outputs": [],
   "source": [
    "y_prediction_test = cv.predict(X_test)\n",
    "y_prediction_train = cv.predict(X_train)"
   ]
  },
  {
   "cell_type": "markdown",
   "metadata": {},
   "source": [
    "### 7. Test your model\n",
    "Show the accuracy, precision, and recall of the tuned model.  \n",
    "\n",
    "Since this project focuses on code quality, process, and  pipelines, there is no minimum performance metric needed to pass. However, make sure to fine tune your models for accuracy, precision and recall to make your project stand out - especially for your portfolio!"
   ]
  },
  {
   "cell_type": "code",
   "execution_count": 20,
   "metadata": {},
   "outputs": [
    {
     "name": "stdout",
     "output_type": "stream",
     "text": [
      "                        precision    recall  f1-score   support\n",
      "\n",
      "               related       0.83      0.94      0.88      4979\n",
      "               request       0.74      0.52      0.62      1094\n",
      "                 offer       0.14      0.05      0.07        21\n",
      "           aid_related       0.75      0.60      0.67      2668\n",
      "          medical_help       0.59      0.26      0.36       514\n",
      "      medical_products       0.68      0.33      0.44       339\n",
      "     search_and_rescue       0.52      0.17      0.25       179\n",
      "              security       0.23      0.04      0.07       122\n",
      "              military       0.56      0.31      0.40       210\n",
      "           child_alone       0.00      0.00      0.00         0\n",
      "                 water       0.71      0.63      0.67       394\n",
      "                  food       0.80      0.65      0.71       716\n",
      "               shelter       0.75      0.55      0.64       576\n",
      "              clothing       0.75      0.41      0.53       104\n",
      "                 money       0.61      0.33      0.43       135\n",
      "        missing_people       0.55      0.12      0.20        88\n",
      "              refugees       0.55      0.26      0.35       198\n",
      "                 death       0.69      0.40      0.51       285\n",
      "             other_aid       0.50      0.13      0.21       869\n",
      "infrastructure_related       0.44      0.10      0.16       431\n",
      "             transport       0.74      0.20      0.31       327\n",
      "             buildings       0.65      0.37      0.47       334\n",
      "           electricity       0.65      0.36      0.46       128\n",
      "                 tools       0.33      0.04      0.08        45\n",
      "             hospitals       0.24      0.08      0.11        66\n",
      "                 shops       0.00      0.00      0.00        33\n",
      "           aid_centers       0.19      0.09      0.12        80\n",
      "  other_infrastructure       0.35      0.07      0.12       298\n",
      "       weather_related       0.85      0.67      0.75      1791\n",
      "                floods       0.84      0.55      0.67       529\n",
      "                 storm       0.76      0.50      0.60       625\n",
      "                  fire       0.50      0.18      0.27        72\n",
      "            earthquake       0.89      0.76      0.82       610\n",
      "                  cold       0.65      0.26      0.37       122\n",
      "         other_weather       0.48      0.17      0.25       321\n",
      "         direct_report       0.70      0.46      0.56      1264\n",
      "\n",
      "             micro avg       0.77      0.58      0.66     20567\n",
      "             macro avg       0.56      0.32      0.39     20567\n",
      "          weighted avg       0.73      0.58      0.62     20567\n",
      "           samples avg       0.63      0.50      0.51     20567\n",
      "\n"
     ]
    },
    {
     "name": "stderr",
     "output_type": "stream",
     "text": [
      "C:\\Users\\succa\\anaconda3\\lib\\site-packages\\sklearn\\metrics\\_classification.py:1245: UndefinedMetricWarning: Precision and F-score are ill-defined and being set to 0.0 in labels with no predicted samples. Use `zero_division` parameter to control this behavior.\n",
      "  _warn_prf(average, modifier, msg_start, len(result))\n",
      "C:\\Users\\succa\\anaconda3\\lib\\site-packages\\sklearn\\metrics\\_classification.py:1245: UndefinedMetricWarning: Recall and F-score are ill-defined and being set to 0.0 in labels with no true samples. Use `zero_division` parameter to control this behavior.\n",
      "  _warn_prf(average, modifier, msg_start, len(result))\n",
      "C:\\Users\\succa\\anaconda3\\lib\\site-packages\\sklearn\\metrics\\_classification.py:1245: UndefinedMetricWarning: Precision and F-score are ill-defined and being set to 0.0 in samples with no predicted labels. Use `zero_division` parameter to control this behavior.\n",
      "  _warn_prf(average, modifier, msg_start, len(result))\n",
      "C:\\Users\\succa\\anaconda3\\lib\\site-packages\\sklearn\\metrics\\_classification.py:1245: UndefinedMetricWarning: Recall and F-score are ill-defined and being set to 0.0 in samples with no true labels. Use `zero_division` parameter to control this behavior.\n",
      "  _warn_prf(average, modifier, msg_start, len(result))\n"
     ]
    }
   ],
   "source": [
    "# Print classification report on test data\n",
    "print(classification_report(y_test.values, y_prediction_test, target_names=y.columns.values))"
   ]
  },
  {
   "cell_type": "code",
   "execution_count": 21,
   "metadata": {},
   "outputs": [
    {
     "name": "stdout",
     "output_type": "stream",
     "text": [
      "                        precision    recall  f1-score   support\n",
      "\n",
      "               related       0.83      0.95      0.89     15115\n",
      "               request       0.80      0.58      0.67      3380\n",
      "                 offer       0.47      0.16      0.24        97\n",
      "           aid_related       0.78      0.63      0.70      8192\n",
      "          medical_help       0.66      0.29      0.40      1570\n",
      "      medical_products       0.71      0.38      0.49       974\n",
      "     search_and_rescue       0.67      0.26      0.37       545\n",
      "              security       0.47      0.08      0.13       349\n",
      "              military       0.69      0.38      0.49       650\n",
      "           child_alone       0.00      0.00      0.00         0\n",
      "                 water       0.80      0.69      0.74      1278\n",
      "                  food       0.84      0.70      0.76      2207\n",
      "               shelter       0.79      0.57      0.66      1738\n",
      "              clothing       0.79      0.48      0.59       301\n",
      "                 money       0.65      0.34      0.45       469\n",
      "        missing_people       0.63      0.19      0.29       210\n",
      "              refugees       0.63      0.28      0.39       677\n",
      "                 death       0.79      0.50      0.61       909\n",
      "             other_aid       0.58      0.18      0.27      2577\n",
      "infrastructure_related       0.52      0.12      0.20      1274\n",
      "             transport       0.76      0.25      0.38       874\n",
      "             buildings       0.71      0.44      0.55       999\n",
      "           electricity       0.67      0.33      0.44       404\n",
      "                 tools       0.48      0.11      0.18       114\n",
      "             hospitals       0.56      0.18      0.28       217\n",
      "                 shops       0.62      0.17      0.27        87\n",
      "           aid_centers       0.43      0.17      0.24       229\n",
      "  other_infrastructure       0.46      0.13      0.20       853\n",
      "       weather_related       0.86      0.68      0.76      5506\n",
      "                floods       0.87      0.58      0.69      1626\n",
      "                 storm       0.80      0.57      0.66      1818\n",
      "                  fire       0.71      0.37      0.48       210\n",
      "            earthquake       0.89      0.77      0.83      1845\n",
      "                  cold       0.74      0.37      0.49       408\n",
      "         other_weather       0.60      0.20      0.30      1055\n",
      "         direct_report       0.76      0.52      0.61      3811\n",
      "\n",
      "             micro avg       0.80      0.61      0.69     62568\n",
      "             macro avg       0.67      0.38      0.46     62568\n",
      "          weighted avg       0.77      0.61      0.66     62568\n",
      "           samples avg       0.65      0.53      0.54     62568\n",
      "\n"
     ]
    },
    {
     "name": "stderr",
     "output_type": "stream",
     "text": [
      "C:\\Users\\succa\\anaconda3\\lib\\site-packages\\sklearn\\metrics\\_classification.py:1245: UndefinedMetricWarning: Precision and F-score are ill-defined and being set to 0.0 in labels with no predicted samples. Use `zero_division` parameter to control this behavior.\n",
      "  _warn_prf(average, modifier, msg_start, len(result))\n",
      "C:\\Users\\succa\\anaconda3\\lib\\site-packages\\sklearn\\metrics\\_classification.py:1245: UndefinedMetricWarning: Recall and F-score are ill-defined and being set to 0.0 in labels with no true samples. Use `zero_division` parameter to control this behavior.\n",
      "  _warn_prf(average, modifier, msg_start, len(result))\n",
      "C:\\Users\\succa\\anaconda3\\lib\\site-packages\\sklearn\\metrics\\_classification.py:1245: UndefinedMetricWarning: Precision and F-score are ill-defined and being set to 0.0 in samples with no predicted labels. Use `zero_division` parameter to control this behavior.\n",
      "  _warn_prf(average, modifier, msg_start, len(result))\n",
      "C:\\Users\\succa\\anaconda3\\lib\\site-packages\\sklearn\\metrics\\_classification.py:1245: UndefinedMetricWarning: Recall and F-score are ill-defined and being set to 0.0 in samples with no true labels. Use `zero_division` parameter to control this behavior.\n",
      "  _warn_prf(average, modifier, msg_start, len(result))\n"
     ]
    }
   ],
   "source": [
    "# Print classification report on test data\n",
    "print(classification_report(y_train.values, y_prediction_train, target_names=y.columns.values))"
   ]
  },
  {
   "cell_type": "markdown",
   "metadata": {},
   "source": [
    "### 8. Try improving your model further. Here are a few ideas:\n",
    "* try other machine learning algorithms\n",
    "* add other features besides the TF-IDF"
   ]
  },
  {
   "cell_type": "code",
   "execution_count": 22,
   "metadata": {},
   "outputs": [
    {
     "name": "stdout",
     "output_type": "stream",
     "text": [
      "                        precision    recall  f1-score   support\n",
      "\n",
      "               related       0.83      0.95      0.88      5040\n",
      "               request       0.76      0.54      0.63      1132\n",
      "                 offer       0.00      0.00      0.00        27\n",
      "           aid_related       0.77      0.61      0.68      2743\n",
      "          medical_help       0.58      0.26      0.36       529\n",
      "      medical_products       0.60      0.30      0.40       341\n",
      "     search_and_rescue       0.67      0.16      0.26       202\n",
      "              security       0.22      0.03      0.06       123\n",
      "              military       0.62      0.32      0.42       211\n",
      "           child_alone       0.00      0.00      0.00         0\n",
      "                 water       0.75      0.63      0.69       439\n",
      "                  food       0.81      0.69      0.75       758\n",
      "               shelter       0.77      0.52      0.62       587\n",
      "              clothing       0.74      0.43      0.54        94\n",
      "                 money       0.58      0.20      0.30       158\n",
      "        missing_people       0.68      0.21      0.32        73\n",
      "              refugees       0.57      0.27      0.36       211\n",
      "                 death       0.74      0.43      0.54       307\n",
      "             other_aid       0.51      0.16      0.25       851\n",
      "infrastructure_related       0.42      0.08      0.14       437\n",
      "             transport       0.69      0.21      0.32       307\n",
      "             buildings       0.77      0.38      0.51       336\n",
      "           electricity       0.64      0.25      0.36       127\n",
      "                 tools       0.11      0.02      0.04        44\n",
      "             hospitals       0.04      0.02      0.02        64\n",
      "                 shops       0.25      0.03      0.05        33\n",
      "           aid_centers       0.14      0.02      0.04        81\n",
      "  other_infrastructure       0.40      0.07      0.12       290\n",
      "       weather_related       0.84      0.64      0.73      1833\n",
      "                floods       0.85      0.54      0.66       531\n",
      "                 storm       0.76      0.51      0.61       638\n",
      "                  fire       0.54      0.24      0.33        63\n",
      "            earthquake       0.89      0.74      0.81       603\n",
      "                  cold       0.69      0.37      0.48       126\n",
      "         other_weather       0.46      0.15      0.23       346\n",
      "         direct_report       0.73      0.47      0.57      1272\n",
      "\n",
      "             micro avg       0.78      0.58      0.66     20957\n",
      "             macro avg       0.57      0.32      0.39     20957\n",
      "          weighted avg       0.74      0.58      0.63     20957\n",
      "           samples avg       0.65      0.51      0.52     20957\n",
      "\n"
     ]
    },
    {
     "name": "stderr",
     "output_type": "stream",
     "text": [
      "C:\\Users\\succa\\anaconda3\\lib\\site-packages\\sklearn\\metrics\\_classification.py:1245: UndefinedMetricWarning: Precision and F-score are ill-defined and being set to 0.0 in labels with no predicted samples. Use `zero_division` parameter to control this behavior.\n",
      "  _warn_prf(average, modifier, msg_start, len(result))\n",
      "C:\\Users\\succa\\anaconda3\\lib\\site-packages\\sklearn\\metrics\\_classification.py:1245: UndefinedMetricWarning: Recall and F-score are ill-defined and being set to 0.0 in labels with no true samples. Use `zero_division` parameter to control this behavior.\n",
      "  _warn_prf(average, modifier, msg_start, len(result))\n",
      "C:\\Users\\succa\\anaconda3\\lib\\site-packages\\sklearn\\metrics\\_classification.py:1245: UndefinedMetricWarning: Precision and F-score are ill-defined and being set to 0.0 in samples with no predicted labels. Use `zero_division` parameter to control this behavior.\n",
      "  _warn_prf(average, modifier, msg_start, len(result))\n",
      "C:\\Users\\succa\\anaconda3\\lib\\site-packages\\sklearn\\metrics\\_classification.py:1245: UndefinedMetricWarning: Recall and F-score are ill-defined and being set to 0.0 in samples with no true labels. Use `zero_division` parameter to control this behavior.\n",
      "  _warn_prf(average, modifier, msg_start, len(result))\n"
     ]
    }
   ],
   "source": [
    "#cv.best_params_\n",
    "\n",
    "#Use pipeline2 which includes StartingVerbEstimator\n",
    "X_train, X_test, y_train, y_test = train_test_split(X, y)\n",
    "pipeline_fitted = pipeline2.fit(X_train, y_train)\n",
    "\n",
    "y_prediction_train = pipeline_fitted.predict(X_train)\n",
    "y_prediction_test = pipeline_fitted.predict(X_test)\n",
    "\n",
    "# Print classification report on test data\n",
    "print(classification_report(y_test.values, y_prediction_test, target_names=y.columns.values))"
   ]
  },
  {
   "cell_type": "markdown",
   "metadata": {},
   "source": [
    "### 9. Export your model as a pickle file"
   ]
  },
  {
   "cell_type": "code",
   "execution_count": null,
   "metadata": {},
   "outputs": [],
   "source": [
    "model_pkl = open('classifier.pkl', 'wb')\n",
    "pickle.dump(pipeline_fitted, model_pkl)\n",
    "model_pkl.close()"
   ]
  },
  {
   "cell_type": "markdown",
   "metadata": {},
   "source": [
    "### 10. Use this notebook to complete `train.py`\n",
    "Use the template file attached in the Resources folder to write a script that runs the steps above to create a database and export a model based on a new dataset specified by the user."
   ]
  },
  {
   "cell_type": "code",
   "execution_count": null,
   "metadata": {},
   "outputs": [],
   "source": []
  }
 ],
 "metadata": {
  "kernelspec": {
   "display_name": "Python 3",
   "language": "python",
   "name": "python3"
  },
  "language_info": {
   "codemirror_mode": {
    "name": "ipython",
    "version": 3
   },
   "file_extension": ".py",
   "mimetype": "text/x-python",
   "name": "python",
   "nbconvert_exporter": "python",
   "pygments_lexer": "ipython3",
   "version": "3.8.5"
  }
 },
 "nbformat": 4,
 "nbformat_minor": 2
}
